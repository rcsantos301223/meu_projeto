{
  "nbformat": 4,
  "nbformat_minor": 0,
  "metadata": {
    "colab": {
      "provenance": [],
      "authorship_tag": "ABX9TyP1taTYTAxVDUS8q5TdaDrx",
      "include_colab_link": true
    },
    "kernelspec": {
      "name": "python3",
      "display_name": "Python 3"
    },
    "language_info": {
      "name": "python"
    }
  },
  "cells": [
    {
      "cell_type": "markdown",
      "metadata": {
        "id": "view-in-github",
        "colab_type": "text"
      },
      "source": [
        "<a href=\"https://colab.research.google.com/github/rcsantos301223/meu_projeto/blob/main/Untitled0.ipynb\" target=\"_parent\"><img src=\"https://colab.research.google.com/assets/colab-badge.svg\" alt=\"Open In Colab\"/></a>"
      ]
    },
    {
      "cell_type": "markdown",
      "source": [
        "# **Proz Talento Cloud**\n",
        "Aluno: Roque Santos.\n",
        "Projeto calculadora"
      ],
      "metadata": {
        "id": "XGFClCQuXsXT"
      }
    },
    {
      "cell_type": "code",
      "source": [
        "def calculadora(num1, num2, operacao):\n",
        "  print(operacao)\n",
        "  if(operacao == 1):\n",
        "    return num1 + num2\n",
        "  elif(operacao == 2):\n",
        "    return num1 - num2\n",
        "  elif(ooperacao == 3):\n",
        "    return num1 * num2\n",
        "  elif(operacao == 4):\n",
        "    return num1 / num2\n",
        "  resultado = 0\n",
        "  print(resultado)"
      ],
      "metadata": {
        "id": "DqoYU7JUYTLI"
      },
      "execution_count": 46,
      "outputs": []
    }
  ]
}