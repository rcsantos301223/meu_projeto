{
  "nbformat": 4,
  "nbformat_minor": 0,
  "metadata": {
    "colab": {
      "provenance": [],
      "authorship_tag": "ABX9TyMa6Veb+LnrFL8B4kPSSzNM",
      "include_colab_link": true
    },
    "kernelspec": {
      "name": "python3",
      "display_name": "Python 3"
    },
    "language_info": {
      "name": "python"
    }
  },
  "cells": [
    {
      "cell_type": "markdown",
      "metadata": {
        "id": "view-in-github",
        "colab_type": "text"
      },
      "source": [
        "<a href=\"https://colab.research.google.com/github/rcsantos301223/meu_projeto/blob/main/Projeto_calculadora2.ipynb\" target=\"_parent\"><img src=\"https://colab.research.google.com/assets/colab-badge.svg\" alt=\"Open In Colab\"/></a>"
      ]
    },
    {
      "cell_type": "markdown",
      "source": [
        "# **Proz Talento Cloud**\n",
        "Aluno: Roque Santos.\n",
        "Projeto calculadora"
      ],
      "metadata": {
        "id": "XGFClCQuXsXT"
      }
    },
    {
      "cell_type": "code",
      "source": [
        "def calculadora(num1, num2, operacao):\n",
        "  if(operacao == 1):\n",
        "    return num1 + num2\n",
        "  elif(operacao == 2):\n",
        "    return num1 - num2\n",
        "  elif(operacao == 3):\n",
        "    return num1 * num2\n",
        "  elif(operacao == 4):\n",
        "    return num1 / num2\n",
        "    print(operacao)\n",
        "\n",
        "    return 0\n",
        "\n",
        "executar = True\n",
        "\n",
        "while(executar == True):\n",
        "  print(\"Qual operação você quer realizar?\")\n",
        "  print(\"1: Soma 2: Subtração 3: Multiplicação 4: Divisão e 0: Sair\")\n",
        "  operacao = int(input())\n",
        "  if(operacao < 0) or (operacao > 4):\n",
        "    print(\"Essa opção não existe\")\n",
        "  elif(operacao == 0):\n",
        "      executar = False\n",
        "  else:\n",
        "    print(\"Insira primeiro número da operação:\")\n",
        "    num1 = int(input())\n",
        "    print(\"Insira o segundo número da operação:\")\n",
        "    num2 = int(input())\n",
        "    resulatdo = calculadora(num1, num2, operacao)\n",
        "    print(\"Oresultado é\", resulatdo)"
      ],
      "metadata": {
        "colab": {
          "base_uri": "https://localhost:8080/"
        },
        "id": "DqoYU7JUYTLI",
        "outputId": "dcb9d005-8ec6-48a6-d4d0-702a0e6925ac"
      },
      "execution_count": 50,
      "outputs": [
        {
          "name": "stdout",
          "output_type": "stream",
          "text": [
            "Qual operação você quer realizar?\n",
            "1: Soma 2: Subtração 3: Multiplicação 4: Divisão e 0: Sair\n",
            "3\n",
            "Insira primeiro número da operação:\n",
            "5\n",
            "Insira o segundo número da operação:\n",
            "7\n",
            "Oresultado é 35\n",
            "Qual operação você quer realizar?\n",
            "1: Soma 2: Subtração 3: Multiplicação 4: Divisão e 0: Sair\n",
            "0\n"
          ]
        }
      ]
    }
  ]
}