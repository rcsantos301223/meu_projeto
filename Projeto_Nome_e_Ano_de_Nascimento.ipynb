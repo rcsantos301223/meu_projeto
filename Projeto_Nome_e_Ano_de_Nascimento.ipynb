{
  "nbformat": 4,
  "nbformat_minor": 0,
  "metadata": {
    "colab": {
      "provenance": [],
      "authorship_tag": "ABX9TyP2OUun/ZYSEMis0G3vwrL+",
      "include_colab_link": true
    },
    "kernelspec": {
      "name": "python3",
      "display_name": "Python 3"
    },
    "language_info": {
      "name": "python"
    }
  },
  "cells": [
    {
      "cell_type": "markdown",
      "metadata": {
        "id": "view-in-github",
        "colab_type": "text"
      },
      "source": [
        "<a href=\"https://colab.research.google.com/github/rcsantos301223/meu_projeto/blob/main/Projeto_Nome_e_Ano_de_Nascimento.ipynb\" target=\"_parent\"><img src=\"https://colab.research.google.com/assets/colab-badge.svg\" alt=\"Open In Colab\"/></a>"
      ]
    },
    {
      "cell_type": "markdown",
      "source": [
        "# **Proz Talento Cloud**\n",
        "Aluno: Roque Santos.\n",
        "Projeto Nome sobre Nome e Ano de Nascimento"
      ],
      "metadata": {
        "id": "QsRy-npxoGIQ"
      }
    },
    {
      "cell_type": "code",
      "source": [
        "print(\"Digite se nome\")\n",
        "nome = input()\n",
        "\n",
        "executar = True\n",
        "\n",
        "while(executar == True):\n",
        "  print(\"Digite seu ano de nascimento\")\n",
        "  try:\n",
        "    ano = int(input())\n",
        "    if(ano < 1992) or (ano > 2021):\n",
        "      print(\"O ano precisa ser entre 1992 e 2021\")\n",
        "    else:\n",
        "      idade = 2022 == ano\n",
        "      print(\"O usuario\",nome, \"completou ou completa\", idade, \"anos de idade em 2022\")\n",
        "      executar = False\n",
        "  except:\n",
        "        print(\"Os anos precisam ser escritos apenas com números\")"
      ],
      "metadata": {
        "id": "lEtxP7fJoLai"
      },
      "execution_count": null,
      "outputs": []
    }
  ]
}